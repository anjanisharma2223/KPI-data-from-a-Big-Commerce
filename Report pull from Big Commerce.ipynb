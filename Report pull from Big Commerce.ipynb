{
 "cells": [
  {
   "cell_type": "markdown",
   "id": "e15960c2",
   "metadata": {},
   "source": [
    "# Report pull from Big Commerce\n",
    "\n",
    "We need someone with the knowledge and skill to pull specific KPI data from a Big Commerce storefront for the below KPIs and present us with a clean document deliverable of said KPIs.\n",
    "\n",
    "- AOV Pre September 15 2023 (all available data)\n",
    "- AOV Pre March 2023 (all available data)\n",
    "- AOV Post September 15 2023 (September 15 2023-current)\n",
    "- ACLV Pre September 15 2023 (ACLV up to September 15 2023)\n",
    "- ACLV total\n",
    "- How many active customers?\n",
    "- How many orders / month average past 12 months"
   ]
  },
  {
   "cell_type": "code",
   "execution_count": 1,
   "id": "f6a6a35d",
   "metadata": {},
   "outputs": [],
   "source": [
    "import pandas as pd   # For working with dataframes "
   ]
  },
  {
   "cell_type": "code",
   "execution_count": 2,
   "id": "748eda8b",
   "metadata": {},
   "outputs": [],
   "source": [
    "data = pd.read_excel(\"Data/E_commerce.xlsx\")"
   ]
  },
  {
   "cell_type": "code",
   "execution_count": 3,
   "id": "03030469",
   "metadata": {},
   "outputs": [
    {
     "data": {
      "text/html": [
       "<div>\n",
       "<style scoped>\n",
       "    .dataframe tbody tr th:only-of-type {\n",
       "        vertical-align: middle;\n",
       "    }\n",
       "\n",
       "    .dataframe tbody tr th {\n",
       "        vertical-align: top;\n",
       "    }\n",
       "\n",
       "    .dataframe thead th {\n",
       "        text-align: right;\n",
       "    }\n",
       "</style>\n",
       "<table border=\"1\" class=\"dataframe\">\n",
       "  <thead>\n",
       "    <tr style=\"text-align: right;\">\n",
       "      <th></th>\n",
       "      <th>Customer ID</th>\n",
       "      <th>Customer Name</th>\n",
       "      <th>Order Date</th>\n",
       "      <th>Segment</th>\n",
       "      <th>Postal Code</th>\n",
       "      <th>City</th>\n",
       "      <th>State</th>\n",
       "      <th>Country</th>\n",
       "      <th>Market</th>\n",
       "      <th>Product ID</th>\n",
       "      <th>Category</th>\n",
       "      <th>Sub-Category</th>\n",
       "      <th>Product Name</th>\n",
       "      <th>Unit Price</th>\n",
       "      <th>Quantity</th>\n",
       "      <th>Total Purchase</th>\n",
       "      <th>Discount</th>\n",
       "      <th>Profit</th>\n",
       "    </tr>\n",
       "  </thead>\n",
       "  <tbody>\n",
       "    <tr>\n",
       "      <th>0</th>\n",
       "      <td>BT-113057</td>\n",
       "      <td>Beth Thompson</td>\n",
       "      <td>2024-02-19</td>\n",
       "      <td>Home Office</td>\n",
       "      <td>NaN</td>\n",
       "      <td>Perth</td>\n",
       "      <td>Western Australia</td>\n",
       "      <td>Australia</td>\n",
       "      <td>Asia Pacific</td>\n",
       "      <td>OFF-ST-6047</td>\n",
       "      <td>Office Supplies</td>\n",
       "      <td>Storage</td>\n",
       "      <td>Smead Lockers, Industrial</td>\n",
       "      <td>179.01000</td>\n",
       "      <td>5</td>\n",
       "      <td>895.05000</td>\n",
       "      <td>0.100</td>\n",
       "      <td>39.75000</td>\n",
       "    </tr>\n",
       "    <tr>\n",
       "      <th>1</th>\n",
       "      <td>TW-2102527</td>\n",
       "      <td>Tamara Willingham</td>\n",
       "      <td>2024-02-18</td>\n",
       "      <td>Home Office</td>\n",
       "      <td>NaN</td>\n",
       "      <td>Chengdu</td>\n",
       "      <td>Sichuan</td>\n",
       "      <td>China</td>\n",
       "      <td>Asia Pacific</td>\n",
       "      <td>OFF-AP-4730</td>\n",
       "      <td>Office Supplies</td>\n",
       "      <td>Appliances</td>\n",
       "      <td>Hoover Microwave, Black</td>\n",
       "      <td>308.07000</td>\n",
       "      <td>3</td>\n",
       "      <td>924.21000</td>\n",
       "      <td>0.000</td>\n",
       "      <td>397.35000</td>\n",
       "    </tr>\n",
       "    <tr>\n",
       "      <th>2</th>\n",
       "      <td>AM-107051408</td>\n",
       "      <td>Anne McFarland</td>\n",
       "      <td>2024-02-17</td>\n",
       "      <td>Consumer</td>\n",
       "      <td>24153.0</td>\n",
       "      <td>Salem</td>\n",
       "      <td>Virginia</td>\n",
       "      <td>United States</td>\n",
       "      <td>USCA</td>\n",
       "      <td>FUR-BO-3651</td>\n",
       "      <td>Furniture</td>\n",
       "      <td>Bookcases</td>\n",
       "      <td>Bush Westfield Collection Bookcases, Fully Ass...</td>\n",
       "      <td>100.98000</td>\n",
       "      <td>3</td>\n",
       "      <td>302.94000</td>\n",
       "      <td>0.000</td>\n",
       "      <td>69.67620</td>\n",
       "    </tr>\n",
       "    <tr>\n",
       "      <th>3</th>\n",
       "      <td>BT-1305108</td>\n",
       "      <td>Beth Thompson</td>\n",
       "      <td>2024-02-16</td>\n",
       "      <td>Home Office</td>\n",
       "      <td>NaN</td>\n",
       "      <td>Severodvinsk</td>\n",
       "      <td>Arkhangel'sk</td>\n",
       "      <td>Russia</td>\n",
       "      <td>Europe</td>\n",
       "      <td>TEC-AC-4187</td>\n",
       "      <td>Technology</td>\n",
       "      <td>Accessories</td>\n",
       "      <td>Enermax Router, Programmable</td>\n",
       "      <td>259.83000</td>\n",
       "      <td>1</td>\n",
       "      <td>259.83000</td>\n",
       "      <td>0.000</td>\n",
       "      <td>106.53000</td>\n",
       "    </tr>\n",
       "    <tr>\n",
       "      <th>4</th>\n",
       "      <td>LR-1691539</td>\n",
       "      <td>Lena Radford</td>\n",
       "      <td>2024-02-15</td>\n",
       "      <td>Consumer</td>\n",
       "      <td>NaN</td>\n",
       "      <td>San Salvador</td>\n",
       "      <td>San Salvador</td>\n",
       "      <td>El Salvador</td>\n",
       "      <td>LATAM</td>\n",
       "      <td>TEC-CO-4776</td>\n",
       "      <td>Technology</td>\n",
       "      <td>Copiers</td>\n",
       "      <td>HP Fax Machine, Laser</td>\n",
       "      <td>199.56008</td>\n",
       "      <td>7</td>\n",
       "      <td>1396.92056</td>\n",
       "      <td>0.002</td>\n",
       "      <td>459.06056</td>\n",
       "    </tr>\n",
       "  </tbody>\n",
       "</table>\n",
       "</div>"
      ],
      "text/plain": [
       "    Customer ID      Customer Name Order Date      Segment  Postal Code  \\\n",
       "0     BT-113057      Beth Thompson 2024-02-19  Home Office          NaN   \n",
       "1    TW-2102527  Tamara Willingham 2024-02-18  Home Office          NaN   \n",
       "2  AM-107051408     Anne McFarland 2024-02-17     Consumer      24153.0   \n",
       "3    BT-1305108      Beth Thompson 2024-02-16  Home Office          NaN   \n",
       "4    LR-1691539       Lena Radford 2024-02-15     Consumer          NaN   \n",
       "\n",
       "           City              State        Country        Market   Product ID  \\\n",
       "0         Perth  Western Australia      Australia  Asia Pacific  OFF-ST-6047   \n",
       "1       Chengdu            Sichuan          China  Asia Pacific  OFF-AP-4730   \n",
       "2         Salem           Virginia  United States          USCA  FUR-BO-3651   \n",
       "3  Severodvinsk       Arkhangel'sk         Russia        Europe  TEC-AC-4187   \n",
       "4  San Salvador       San Salvador    El Salvador         LATAM  TEC-CO-4776   \n",
       "\n",
       "          Category Sub-Category  \\\n",
       "0  Office Supplies      Storage   \n",
       "1  Office Supplies   Appliances   \n",
       "2        Furniture    Bookcases   \n",
       "3       Technology  Accessories   \n",
       "4       Technology      Copiers   \n",
       "\n",
       "                                        Product Name  Unit Price  Quantity  \\\n",
       "0                          Smead Lockers, Industrial   179.01000         5   \n",
       "1                            Hoover Microwave, Black   308.07000         3   \n",
       "2  Bush Westfield Collection Bookcases, Fully Ass...   100.98000         3   \n",
       "3                       Enermax Router, Programmable   259.83000         1   \n",
       "4                              HP Fax Machine, Laser   199.56008         7   \n",
       "\n",
       "   Total Purchase  Discount     Profit  \n",
       "0       895.05000     0.100   39.75000  \n",
       "1       924.21000     0.000  397.35000  \n",
       "2       302.94000     0.000   69.67620  \n",
       "3       259.83000     0.000  106.53000  \n",
       "4      1396.92056     0.002  459.06056  "
      ]
     },
     "execution_count": 3,
     "metadata": {},
     "output_type": "execute_result"
    }
   ],
   "source": [
    "data.head()"
   ]
  },
  {
   "cell_type": "code",
   "execution_count": 4,
   "id": "6c9ca3e4",
   "metadata": {},
   "outputs": [],
   "source": [
    "# Convert order date to datetime\n",
    "from datetime import datetime\n",
    "data['Order Date'] = pd.to_datetime(data['Order Date'])"
   ]
  },
  {
   "cell_type": "code",
   "execution_count": 5,
   "id": "2fe8ac1e",
   "metadata": {},
   "outputs": [],
   "source": [
    "# Filter orders for pre/post Sept 15, 2023\n",
    "pre_sept15 = data[data['Order Date'] < '2023-09-15']\n",
    "post_sept15 = data[data['Order Date'] >= '2023-09-15']\n",
    "\n",
    "# Filter orders for orders pre March 2023\n",
    "pre_march2023 = data[data['Order Date'] < '2023-03-01']\n",
    "\n",
    "# Filter orders from past 12 months\n",
    "past_year = data[data['Order Date'] > '2023-02-20']"
   ]
  },
  {
   "cell_type": "code",
   "execution_count": 6,
   "id": "9d596770",
   "metadata": {},
   "outputs": [
    {
     "name": "stdout",
     "output_type": "stream",
     "text": [
      "AOV Pre September 15 2023 = 1241.0599669831442\n"
     ]
    }
   ],
   "source": [
    "# AOV pre Sept 15, 2023\n",
    "pre_sept15_aov = pre_sept15['Total Purchase'].sum() / len(pre_sept15)\n",
    "print(f\"AOV Pre September 15 2023 = {pre_sept15_aov}\")"
   ]
  },
  {
   "cell_type": "code",
   "execution_count": 7,
   "id": "e4d4c476",
   "metadata": {},
   "outputs": [
    {
     "name": "stdout",
     "output_type": "stream",
     "text": [
      "AOV Post September 15 2023 = 787.5700354430379\n"
     ]
    }
   ],
   "source": [
    "# AOV post Sept 15, 2023  \n",
    "post_sept15_aov = post_sept15['Total Purchase'].sum() / len(post_sept15)\n",
    "print(f\"AOV Post September 15 2023 = {post_sept15_aov}\")"
   ]
  },
  {
   "cell_type": "code",
   "execution_count": 8,
   "id": "95241f10",
   "metadata": {},
   "outputs": [
    {
     "name": "stdout",
     "output_type": "stream",
     "text": [
      "AOV Pre March 2023 = 1274.2738357327428\n"
     ]
    }
   ],
   "source": [
    "# AOV pre March 2023 \n",
    "pre_march2023_aov = pre_march2023['Total Purchase'].sum() / len(pre_march2023)\n",
    "print(f\"AOV Pre March 2023 = {pre_march2023_aov}\")"
   ]
  },
  {
   "cell_type": "code",
   "execution_count": 9,
   "id": "10268d75",
   "metadata": {},
   "outputs": [
    {
     "name": "stdout",
     "output_type": "stream",
     "text": [
      " ACLV Pre September 15 2023 = 1630.995173607595\n"
     ]
    }
   ],
   "source": [
    "# ACLV pre Sept 15, 2023\n",
    "unique_cust_pre = len(pre_sept15['Customer ID'].unique())\n",
    "pre_sept15_aclv = pre_sept15['Total Purchase'].sum() / unique_cust_pre\n",
    "print(f\" ACLV Pre September 15 2023 = {pre_sept15_aclv}\")"
   ]
  },
  {
   "cell_type": "code",
   "execution_count": 10,
   "id": "dc8588ed",
   "metadata": {},
   "outputs": [
    {
     "name": "stdout",
     "output_type": "stream",
     "text": [
      "ACLV total = 1604.5560574462597\n"
     ]
    }
   ],
   "source": [
    "# ACLV Total \n",
    "unique_cust_total = len(data['Customer ID'].unique())\n",
    "total_aclv = data['Total Purchase'].sum() / unique_cust_total\n",
    "print(f\"ACLV total = {total_aclv}\")"
   ]
  },
  {
   "cell_type": "code",
   "execution_count": 11,
   "id": "e77fec02",
   "metadata": {},
   "outputs": [
    {
     "name": "stdout",
     "output_type": "stream",
     "text": [
      "Active customers = 67\n"
     ]
    }
   ],
   "source": [
    "# Active customers\n",
    "from datetime import timedelta\n",
    "\n",
    "# Set cutoff date for 90 days ago\n",
    "cutoff_date = datetime.today() - timedelta(days=90)\n",
    "\n",
    "# Filter for orders in past 90 days\n",
    "data_90d = data[data['Order Date'] > cutoff_date]\n",
    "\n",
    "# Get unique customers \n",
    "unique_cust_90d = data_90d['Customer ID'].unique()\n",
    "\n",
    "# Count unique customers\n",
    "active_cust_90d = len(unique_cust_90d) \n",
    "print(f\"Active customers = {active_cust_90d}\")"
   ]
  },
  {
   "cell_type": "code",
   "execution_count": 12,
   "id": "6313f67e",
   "metadata": {},
   "outputs": [
    {
     "name": "stdout",
     "output_type": "stream",
     "text": [
      "Orders/month average past 12 months = 28.0\n"
     ]
    }
   ],
   "source": [
    "# Calculate monthly orders  \n",
    "monthly_orders = past_year.resample('M', on='Order Date').size()\n",
    "\n",
    "# Get mean for average monthly orders\n",
    "avg_monthly_orders = monthly_orders.mean()\n",
    "\n",
    "print(f\"Orders/month average past 12 months = {avg_monthly_orders}\")"
   ]
  },
  {
   "cell_type": "code",
   "execution_count": 13,
   "id": "86b3b86d",
   "metadata": {},
   "outputs": [],
   "source": [
    "kpi_data = pd.DataFrame({'KPI': ['AOV Pre Sep 15 2023', \n",
    "                                 'AOV Pre Mar 2023', \n",
    "                                 'AOV Post Sep 15 2023',\n",
    "                                 'ACLV Pre Sep 15 2023', \n",
    "                                 'ACLV Total', 'Active Customers', \n",
    "                                 'Orders/Month Avg'], \n",
    "                         'Value': [pre_sept15_aov, \n",
    "                                   pre_march2023_aov, \n",
    "                                   post_sept15_aov, \n",
    "                                   pre_sept15_aclv, total_aclv, \n",
    "                                   active_cust_90d, \n",
    "                                   avg_monthly_orders]})"
   ]
  },
  {
   "cell_type": "code",
   "execution_count": 14,
   "id": "82dcf9a2",
   "metadata": {},
   "outputs": [
    {
     "data": {
      "text/html": [
       "<div>\n",
       "<style scoped>\n",
       "    .dataframe tbody tr th:only-of-type {\n",
       "        vertical-align: middle;\n",
       "    }\n",
       "\n",
       "    .dataframe tbody tr th {\n",
       "        vertical-align: top;\n",
       "    }\n",
       "\n",
       "    .dataframe thead th {\n",
       "        text-align: right;\n",
       "    }\n",
       "</style>\n",
       "<table border=\"1\" class=\"dataframe\">\n",
       "  <thead>\n",
       "    <tr style=\"text-align: right;\">\n",
       "      <th></th>\n",
       "      <th>KPI</th>\n",
       "      <th>Value</th>\n",
       "    </tr>\n",
       "  </thead>\n",
       "  <tbody>\n",
       "    <tr>\n",
       "      <th>0</th>\n",
       "      <td>AOV Pre Sep 15 2023</td>\n",
       "      <td>1241.059967</td>\n",
       "    </tr>\n",
       "    <tr>\n",
       "      <th>1</th>\n",
       "      <td>AOV Pre Mar 2023</td>\n",
       "      <td>1274.273836</td>\n",
       "    </tr>\n",
       "    <tr>\n",
       "      <th>2</th>\n",
       "      <td>AOV Post Sep 15 2023</td>\n",
       "      <td>787.570035</td>\n",
       "    </tr>\n",
       "    <tr>\n",
       "      <th>3</th>\n",
       "      <td>ACLV Pre Sep 15 2023</td>\n",
       "      <td>1630.995174</td>\n",
       "    </tr>\n",
       "    <tr>\n",
       "      <th>4</th>\n",
       "      <td>ACLV Total</td>\n",
       "      <td>1604.556057</td>\n",
       "    </tr>\n",
       "    <tr>\n",
       "      <th>5</th>\n",
       "      <td>Active Customers</td>\n",
       "      <td>67.000000</td>\n",
       "    </tr>\n",
       "    <tr>\n",
       "      <th>6</th>\n",
       "      <td>Orders/Month Avg</td>\n",
       "      <td>28.000000</td>\n",
       "    </tr>\n",
       "  </tbody>\n",
       "</table>\n",
       "</div>"
      ],
      "text/plain": [
       "                    KPI        Value\n",
       "0   AOV Pre Sep 15 2023  1241.059967\n",
       "1      AOV Pre Mar 2023  1274.273836\n",
       "2  AOV Post Sep 15 2023   787.570035\n",
       "3  ACLV Pre Sep 15 2023  1630.995174\n",
       "4            ACLV Total  1604.556057\n",
       "5      Active Customers    67.000000\n",
       "6      Orders/Month Avg    28.000000"
      ]
     },
     "execution_count": 14,
     "metadata": {},
     "output_type": "execute_result"
    }
   ],
   "source": [
    "kpi_data"
   ]
  },
  {
   "cell_type": "code",
   "execution_count": 15,
   "id": "e23486bd",
   "metadata": {},
   "outputs": [
    {
     "data": {
      "image/png": "[encoded data removed]",
      "text/plain": [
       "<Figure size 1500x800 with 1 Axes>"
      ]
     },
     "metadata": {},
     "output_type": "display_data"
    }
   ],
   "source": [
    "# for plotting graphs\n",
    "import matplotlib.pyplot as plt\n",
    "import seaborn as sns\n",
    "plt.figure(figsize = (15,8))\n",
    "sns.barplot(x = kpi_data['KPI'], y = kpi_data['Value'])\n",
    "plt.show()"
   ]
  }
 ],
 "metadata": {
  "kernelspec": {
   "display_name": "Python 3 (ipykernel)",
   "language": "python",
   "name": "python3"
  },
  "language_info": {
   "codemirror_mode": {
    "name": "ipython",
    "version": 3
   },
   "file_extension": ".py",
   "mimetype": "text/x-python",
   "name": "python",
   "nbconvert_exporter": "python",
   "pygments_lexer": "ipython3",
   "version": "3.11.5"
  }
 },
 "nbformat": 4,
 "nbformat_minor": 5
}
